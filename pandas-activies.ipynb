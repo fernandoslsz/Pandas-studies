{
 "cells": [
  {
   "cell_type": "code",
   "execution_count": 1,
   "metadata": {},
   "outputs": [],
   "source": [
    "import pandas as pd\n",
    "import numpy as np\n",
    "from pandas import *"
   ]
  },
  {
   "cell_type": "code",
   "execution_count": 11,
   "metadata": {},
   "outputs": [],
   "source": [
    "dados_pessoais = {'Nome':['Pedro Roberto','Jonathan Igor','Gomes Costa','Manoel Maya'],\n",
    "                 'Idade':[24,28,32,35],\n",
    "                  'Cor':['Branco','Negro','Pardo','Branco'],\n",
    "                  'Estado Civil':['Solteiro','Casado','Viúvo','Solteiro']}\n",
    "\n",
    "produtos = {'Café':['Pão','Leite','Café','Margarina','Mortadela'],\n",
    "           'Limpeza':['Desinfetante','Candida','Sabão','Alvejante'],\n",
    "            'Higiene':['Papel Higiênico','Pasta de dente','sabonete','Shampo']}\n",
    "\n",
    "\n",
    "eletronicos = {'Computadores':['Placa Mãe','Memória Ram','Placa de vídeo','HD'],\n",
    "              'Quantidade':[40,100,50,80],\n",
    "              'Preço Unidade':[245.40,120.40,210.10,90.40]}\n",
    "\n",
    "investimentos = {'CDBs':['Pós fixado','Pré fixado','IPCA','Dólar'],\n",
    "                'Tesouro Direto':['Pós fixaxo','Pré fixado','IPCA','Dólar']}"
   ]
  },
  {
   "cell_type": "code",
   "execution_count": 3,
   "metadata": {},
   "outputs": [],
   "source": [
    "frame = pd.DataFrame(dados_pessoais)"
   ]
  },
  {
   "cell_type": "code",
   "execution_count": 4,
   "metadata": {},
   "outputs": [
    {
     "data": {
      "text/html": [
       "<div>\n",
       "<style scoped>\n",
       "    .dataframe tbody tr th:only-of-type {\n",
       "        vertical-align: middle;\n",
       "    }\n",
       "\n",
       "    .dataframe tbody tr th {\n",
       "        vertical-align: top;\n",
       "    }\n",
       "\n",
       "    .dataframe thead th {\n",
       "        text-align: right;\n",
       "    }\n",
       "</style>\n",
       "<table border=\"1\" class=\"dataframe\">\n",
       "  <thead>\n",
       "    <tr style=\"text-align: right;\">\n",
       "      <th></th>\n",
       "      <th>Nome</th>\n",
       "      <th>Idade</th>\n",
       "      <th>Cor</th>\n",
       "      <th>Estado Civil</th>\n",
       "    </tr>\n",
       "  </thead>\n",
       "  <tbody>\n",
       "    <tr>\n",
       "      <th>0</th>\n",
       "      <td>Pedro Roberto</td>\n",
       "      <td>24</td>\n",
       "      <td>Branco</td>\n",
       "      <td>Solteiro</td>\n",
       "    </tr>\n",
       "    <tr>\n",
       "      <th>1</th>\n",
       "      <td>Jonathan Igor</td>\n",
       "      <td>28</td>\n",
       "      <td>Negro</td>\n",
       "      <td>Casado</td>\n",
       "    </tr>\n",
       "    <tr>\n",
       "      <th>2</th>\n",
       "      <td>Gomes Costa</td>\n",
       "      <td>32</td>\n",
       "      <td>Pardo</td>\n",
       "      <td>Viúvo</td>\n",
       "    </tr>\n",
       "    <tr>\n",
       "      <th>3</th>\n",
       "      <td>Manoel Maya</td>\n",
       "      <td>35</td>\n",
       "      <td>Branco</td>\n",
       "      <td>Solteiro</td>\n",
       "    </tr>\n",
       "  </tbody>\n",
       "</table>\n",
       "</div>"
      ],
      "text/plain": [
       "            Nome  Idade     Cor Estado Civil\n",
       "0  Pedro Roberto     24  Branco     Solteiro\n",
       "1  Jonathan Igor     28   Negro       Casado\n",
       "2    Gomes Costa     32   Pardo        Viúvo\n",
       "3    Manoel Maya     35  Branco     Solteiro"
      ]
     },
     "execution_count": 4,
     "metadata": {},
     "output_type": "execute_result"
    }
   ],
   "source": [
    "frame"
   ]
  },
  {
   "cell_type": "code",
   "execution_count": 5,
   "metadata": {},
   "outputs": [],
   "source": [
    "# Mude as informações dos índices.\n",
    "frame = pd.DataFrame(dados_pessoais, index=['Zero','Um','Dois','Três'])"
   ]
  },
  {
   "cell_type": "code",
   "execution_count": 6,
   "metadata": {},
   "outputs": [
    {
     "data": {
      "text/html": [
       "<div>\n",
       "<style scoped>\n",
       "    .dataframe tbody tr th:only-of-type {\n",
       "        vertical-align: middle;\n",
       "    }\n",
       "\n",
       "    .dataframe tbody tr th {\n",
       "        vertical-align: top;\n",
       "    }\n",
       "\n",
       "    .dataframe thead th {\n",
       "        text-align: right;\n",
       "    }\n",
       "</style>\n",
       "<table border=\"1\" class=\"dataframe\">\n",
       "  <thead>\n",
       "    <tr style=\"text-align: right;\">\n",
       "      <th></th>\n",
       "      <th>Nome</th>\n",
       "      <th>Idade</th>\n",
       "      <th>Cor</th>\n",
       "      <th>Estado Civil</th>\n",
       "    </tr>\n",
       "  </thead>\n",
       "  <tbody>\n",
       "    <tr>\n",
       "      <th>Zero</th>\n",
       "      <td>Pedro Roberto</td>\n",
       "      <td>24</td>\n",
       "      <td>Branco</td>\n",
       "      <td>Solteiro</td>\n",
       "    </tr>\n",
       "    <tr>\n",
       "      <th>Um</th>\n",
       "      <td>Jonathan Igor</td>\n",
       "      <td>28</td>\n",
       "      <td>Negro</td>\n",
       "      <td>Casado</td>\n",
       "    </tr>\n",
       "    <tr>\n",
       "      <th>Dois</th>\n",
       "      <td>Gomes Costa</td>\n",
       "      <td>32</td>\n",
       "      <td>Pardo</td>\n",
       "      <td>Viúvo</td>\n",
       "    </tr>\n",
       "    <tr>\n",
       "      <th>Três</th>\n",
       "      <td>Manoel Maya</td>\n",
       "      <td>35</td>\n",
       "      <td>Branco</td>\n",
       "      <td>Solteiro</td>\n",
       "    </tr>\n",
       "  </tbody>\n",
       "</table>\n",
       "</div>"
      ],
      "text/plain": [
       "               Nome  Idade     Cor Estado Civil\n",
       "Zero  Pedro Roberto     24  Branco     Solteiro\n",
       "Um    Jonathan Igor     28   Negro       Casado\n",
       "Dois    Gomes Costa     32   Pardo        Viúvo\n",
       "Três    Manoel Maya     35  Branco     Solteiro"
      ]
     },
     "execution_count": 6,
     "metadata": {},
     "output_type": "execute_result"
    }
   ],
   "source": [
    "frame"
   ]
  },
  {
   "cell_type": "code",
   "execution_count": 7,
   "metadata": {},
   "outputs": [],
   "source": [
    "frame= pd.DataFrame(dados_pessoais, index=['a','b','c','d'])"
   ]
  },
  {
   "cell_type": "code",
   "execution_count": 8,
   "metadata": {},
   "outputs": [
    {
     "data": {
      "text/html": [
       "<div>\n",
       "<style scoped>\n",
       "    .dataframe tbody tr th:only-of-type {\n",
       "        vertical-align: middle;\n",
       "    }\n",
       "\n",
       "    .dataframe tbody tr th {\n",
       "        vertical-align: top;\n",
       "    }\n",
       "\n",
       "    .dataframe thead th {\n",
       "        text-align: right;\n",
       "    }\n",
       "</style>\n",
       "<table border=\"1\" class=\"dataframe\">\n",
       "  <thead>\n",
       "    <tr style=\"text-align: right;\">\n",
       "      <th></th>\n",
       "      <th>Nome</th>\n",
       "      <th>Idade</th>\n",
       "      <th>Cor</th>\n",
       "      <th>Estado Civil</th>\n",
       "    </tr>\n",
       "  </thead>\n",
       "  <tbody>\n",
       "    <tr>\n",
       "      <th>a</th>\n",
       "      <td>Pedro Roberto</td>\n",
       "      <td>24</td>\n",
       "      <td>Branco</td>\n",
       "      <td>Solteiro</td>\n",
       "    </tr>\n",
       "    <tr>\n",
       "      <th>b</th>\n",
       "      <td>Jonathan Igor</td>\n",
       "      <td>28</td>\n",
       "      <td>Negro</td>\n",
       "      <td>Casado</td>\n",
       "    </tr>\n",
       "    <tr>\n",
       "      <th>c</th>\n",
       "      <td>Gomes Costa</td>\n",
       "      <td>32</td>\n",
       "      <td>Pardo</td>\n",
       "      <td>Viúvo</td>\n",
       "    </tr>\n",
       "    <tr>\n",
       "      <th>d</th>\n",
       "      <td>Manoel Maya</td>\n",
       "      <td>35</td>\n",
       "      <td>Branco</td>\n",
       "      <td>Solteiro</td>\n",
       "    </tr>\n",
       "  </tbody>\n",
       "</table>\n",
       "</div>"
      ],
      "text/plain": [
       "            Nome  Idade     Cor Estado Civil\n",
       "a  Pedro Roberto     24  Branco     Solteiro\n",
       "b  Jonathan Igor     28   Negro       Casado\n",
       "c    Gomes Costa     32   Pardo        Viúvo\n",
       "d    Manoel Maya     35  Branco     Solteiro"
      ]
     },
     "execution_count": 8,
     "metadata": {},
     "output_type": "execute_result"
    }
   ],
   "source": [
    "frame"
   ]
  },
  {
   "cell_type": "code",
   "execution_count": 21,
   "metadata": {},
   "outputs": [],
   "source": [
    "frame = pd.DataFrame(dados_pessoais, index=[0,1,2,3])"
   ]
  },
  {
   "cell_type": "code",
   "execution_count": 22,
   "metadata": {},
   "outputs": [
    {
     "data": {
      "text/html": [
       "<div>\n",
       "<style scoped>\n",
       "    .dataframe tbody tr th:only-of-type {\n",
       "        vertical-align: middle;\n",
       "    }\n",
       "\n",
       "    .dataframe tbody tr th {\n",
       "        vertical-align: top;\n",
       "    }\n",
       "\n",
       "    .dataframe thead th {\n",
       "        text-align: right;\n",
       "    }\n",
       "</style>\n",
       "<table border=\"1\" class=\"dataframe\">\n",
       "  <thead>\n",
       "    <tr style=\"text-align: right;\">\n",
       "      <th></th>\n",
       "      <th>Nome</th>\n",
       "      <th>Idade</th>\n",
       "      <th>Cor</th>\n",
       "      <th>Estado Civil</th>\n",
       "    </tr>\n",
       "  </thead>\n",
       "  <tbody>\n",
       "    <tr>\n",
       "      <th>0</th>\n",
       "      <td>Pedro Roberto</td>\n",
       "      <td>24</td>\n",
       "      <td>Branco</td>\n",
       "      <td>Solteiro</td>\n",
       "    </tr>\n",
       "    <tr>\n",
       "      <th>1</th>\n",
       "      <td>Jonathan Igor</td>\n",
       "      <td>28</td>\n",
       "      <td>Negro</td>\n",
       "      <td>Casado</td>\n",
       "    </tr>\n",
       "    <tr>\n",
       "      <th>2</th>\n",
       "      <td>Gomes Costa</td>\n",
       "      <td>32</td>\n",
       "      <td>Pardo</td>\n",
       "      <td>Viúvo</td>\n",
       "    </tr>\n",
       "    <tr>\n",
       "      <th>3</th>\n",
       "      <td>Manoel Maya</td>\n",
       "      <td>35</td>\n",
       "      <td>Branco</td>\n",
       "      <td>Solteiro</td>\n",
       "    </tr>\n",
       "  </tbody>\n",
       "</table>\n",
       "</div>"
      ],
      "text/plain": [
       "            Nome  Idade     Cor Estado Civil\n",
       "0  Pedro Roberto     24  Branco     Solteiro\n",
       "1  Jonathan Igor     28   Negro       Casado\n",
       "2    Gomes Costa     32   Pardo        Viúvo\n",
       "3    Manoel Maya     35  Branco     Solteiro"
      ]
     },
     "execution_count": 22,
     "metadata": {},
     "output_type": "execute_result"
    }
   ],
   "source": [
    "frame"
   ]
  },
  {
   "cell_type": "code",
   "execution_count": 12,
   "metadata": {},
   "outputs": [
    {
     "data": {
      "text/plain": [
       "Index(['Nome', 'Idade', 'Cor', 'Estado Civil'], dtype='object')"
      ]
     },
     "execution_count": 12,
     "metadata": {},
     "output_type": "execute_result"
    }
   ],
   "source": [
    "frame.columns"
   ]
  },
  {
   "cell_type": "code",
   "execution_count": 13,
   "metadata": {},
   "outputs": [
    {
     "data": {
      "text/plain": [
       "array([['Pedro Roberto', 24, 'Branco', 'Solteiro'],\n",
       "       ['Jonathan Igor', 28, 'Negro', 'Casado'],\n",
       "       ['Gomes Costa', 32, 'Pardo', 'Viúvo'],\n",
       "       ['Manoel Maya', 35, 'Branco', 'Solteiro']], dtype=object)"
      ]
     },
     "execution_count": 13,
     "metadata": {},
     "output_type": "execute_result"
    }
   ],
   "source": [
    "frame.values"
   ]
  },
  {
   "cell_type": "code",
   "execution_count": 14,
   "metadata": {},
   "outputs": [
    {
     "data": {
      "text/plain": [
       "Azul        24\n",
       "Amarelo     28\n",
       "Verde       32\n",
       "Vermelho    35\n",
       "Name: Idade, dtype: int64"
      ]
     },
     "execution_count": 14,
     "metadata": {},
     "output_type": "execute_result"
    }
   ],
   "source": [
    "frame['Idade']"
   ]
  },
  {
   "cell_type": "code",
   "execution_count": 15,
   "metadata": {},
   "outputs": [
    {
     "data": {
      "text/plain": [
       "Azul        Pedro Roberto\n",
       "Amarelo     Jonathan Igor\n",
       "Verde         Gomes Costa\n",
       "Vermelho      Manoel Maya\n",
       "Name: Nome, dtype: object"
      ]
     },
     "execution_count": 15,
     "metadata": {},
     "output_type": "execute_result"
    }
   ],
   "source": [
    "frame['Nome']"
   ]
  },
  {
   "cell_type": "code",
   "execution_count": 17,
   "metadata": {},
   "outputs": [
    {
     "data": {
      "text/plain": [
       "Nome            Pedro Roberto\n",
       "Idade                      24\n",
       "Cor                    Branco\n",
       "Estado Civil         Solteiro\n",
       "Name: Azul, dtype: object"
      ]
     },
     "execution_count": 17,
     "metadata": {},
     "output_type": "execute_result"
    }
   ],
   "source": [
    "frame.loc['Azul']"
   ]
  },
  {
   "cell_type": "code",
   "execution_count": 18,
   "metadata": {},
   "outputs": [
    {
     "data": {
      "text/plain": [
       "Nome            Manoel Maya\n",
       "Idade                    35\n",
       "Cor                  Branco\n",
       "Estado Civil       Solteiro\n",
       "Name: Vermelho, dtype: object"
      ]
     },
     "execution_count": 18,
     "metadata": {},
     "output_type": "execute_result"
    }
   ],
   "source": [
    "frame.loc['Vermelho']"
   ]
  },
  {
   "cell_type": "code",
   "execution_count": 20,
   "metadata": {},
   "outputs": [
    {
     "data": {
      "text/html": [
       "<div>\n",
       "<style scoped>\n",
       "    .dataframe tbody tr th:only-of-type {\n",
       "        vertical-align: middle;\n",
       "    }\n",
       "\n",
       "    .dataframe tbody tr th {\n",
       "        vertical-align: top;\n",
       "    }\n",
       "\n",
       "    .dataframe thead th {\n",
       "        text-align: right;\n",
       "    }\n",
       "</style>\n",
       "<table border=\"1\" class=\"dataframe\">\n",
       "  <thead>\n",
       "    <tr style=\"text-align: right;\">\n",
       "      <th></th>\n",
       "      <th>Nome</th>\n",
       "      <th>Idade</th>\n",
       "      <th>Cor</th>\n",
       "      <th>Estado Civil</th>\n",
       "    </tr>\n",
       "  </thead>\n",
       "  <tbody>\n",
       "    <tr>\n",
       "      <th>Azul</th>\n",
       "      <td>Pedro Roberto</td>\n",
       "      <td>24</td>\n",
       "      <td>Branco</td>\n",
       "      <td>Solteiro</td>\n",
       "    </tr>\n",
       "    <tr>\n",
       "      <th>Verde</th>\n",
       "      <td>Gomes Costa</td>\n",
       "      <td>32</td>\n",
       "      <td>Pardo</td>\n",
       "      <td>Viúvo</td>\n",
       "    </tr>\n",
       "  </tbody>\n",
       "</table>\n",
       "</div>"
      ],
      "text/plain": [
       "                Nome  Idade     Cor Estado Civil\n",
       "Azul   Pedro Roberto     24  Branco     Solteiro\n",
       "Verde    Gomes Costa     32   Pardo        Viúvo"
      ]
     },
     "execution_count": 20,
     "metadata": {},
     "output_type": "execute_result"
    }
   ],
   "source": [
    "frame.loc[['Azul','Verde']]"
   ]
  },
  {
   "cell_type": "code",
   "execution_count": 23,
   "metadata": {},
   "outputs": [
    {
     "data": {
      "text/plain": [
       "'Viúvo'"
      ]
     },
     "execution_count": 23,
     "metadata": {},
     "output_type": "execute_result"
    }
   ],
   "source": [
    "frame['Estado Civil'][2]"
   ]
  },
  {
   "cell_type": "code",
   "execution_count": 24,
   "metadata": {},
   "outputs": [
    {
     "data": {
      "text/plain": [
       "28"
      ]
     },
     "execution_count": 24,
     "metadata": {},
     "output_type": "execute_result"
    }
   ],
   "source": [
    "frame['Idade'][1]"
   ]
  },
  {
   "cell_type": "code",
   "execution_count": 25,
   "metadata": {},
   "outputs": [],
   "source": [
    "frame.columns.name = 'Id'"
   ]
  },
  {
   "cell_type": "code",
   "execution_count": 26,
   "metadata": {},
   "outputs": [
    {
     "data": {
      "text/html": [
       "<div>\n",
       "<style scoped>\n",
       "    .dataframe tbody tr th:only-of-type {\n",
       "        vertical-align: middle;\n",
       "    }\n",
       "\n",
       "    .dataframe tbody tr th {\n",
       "        vertical-align: top;\n",
       "    }\n",
       "\n",
       "    .dataframe thead th {\n",
       "        text-align: right;\n",
       "    }\n",
       "</style>\n",
       "<table border=\"1\" class=\"dataframe\">\n",
       "  <thead>\n",
       "    <tr style=\"text-align: right;\">\n",
       "      <th>Id</th>\n",
       "      <th>Nome</th>\n",
       "      <th>Idade</th>\n",
       "      <th>Cor</th>\n",
       "      <th>Estado Civil</th>\n",
       "    </tr>\n",
       "  </thead>\n",
       "  <tbody>\n",
       "    <tr>\n",
       "      <th>0</th>\n",
       "      <td>Pedro Roberto</td>\n",
       "      <td>24</td>\n",
       "      <td>Branco</td>\n",
       "      <td>Solteiro</td>\n",
       "    </tr>\n",
       "    <tr>\n",
       "      <th>1</th>\n",
       "      <td>Jonathan Igor</td>\n",
       "      <td>28</td>\n",
       "      <td>Negro</td>\n",
       "      <td>Casado</td>\n",
       "    </tr>\n",
       "    <tr>\n",
       "      <th>2</th>\n",
       "      <td>Gomes Costa</td>\n",
       "      <td>32</td>\n",
       "      <td>Pardo</td>\n",
       "      <td>Viúvo</td>\n",
       "    </tr>\n",
       "    <tr>\n",
       "      <th>3</th>\n",
       "      <td>Manoel Maya</td>\n",
       "      <td>35</td>\n",
       "      <td>Branco</td>\n",
       "      <td>Solteiro</td>\n",
       "    </tr>\n",
       "  </tbody>\n",
       "</table>\n",
       "</div>"
      ],
      "text/plain": [
       "Id           Nome  Idade     Cor Estado Civil\n",
       "0   Pedro Roberto     24  Branco     Solteiro\n",
       "1   Jonathan Igor     28   Negro       Casado\n",
       "2     Gomes Costa     32   Pardo        Viúvo\n",
       "3     Manoel Maya     35  Branco     Solteiro"
      ]
     },
     "execution_count": 26,
     "metadata": {},
     "output_type": "execute_result"
    }
   ],
   "source": [
    "frame"
   ]
  },
  {
   "cell_type": "code",
   "execution_count": 27,
   "metadata": {},
   "outputs": [],
   "source": [
    "frame['Cidade']=['São Pualo','Fortaleza','Rio de Janeiro','Belo Horizonte']"
   ]
  },
  {
   "cell_type": "code",
   "execution_count": 28,
   "metadata": {},
   "outputs": [
    {
     "data": {
      "text/html": [
       "<div>\n",
       "<style scoped>\n",
       "    .dataframe tbody tr th:only-of-type {\n",
       "        vertical-align: middle;\n",
       "    }\n",
       "\n",
       "    .dataframe tbody tr th {\n",
       "        vertical-align: top;\n",
       "    }\n",
       "\n",
       "    .dataframe thead th {\n",
       "        text-align: right;\n",
       "    }\n",
       "</style>\n",
       "<table border=\"1\" class=\"dataframe\">\n",
       "  <thead>\n",
       "    <tr style=\"text-align: right;\">\n",
       "      <th>Id</th>\n",
       "      <th>Nome</th>\n",
       "      <th>Idade</th>\n",
       "      <th>Cor</th>\n",
       "      <th>Estado Civil</th>\n",
       "      <th>Cidade</th>\n",
       "    </tr>\n",
       "  </thead>\n",
       "  <tbody>\n",
       "    <tr>\n",
       "      <th>0</th>\n",
       "      <td>Pedro Roberto</td>\n",
       "      <td>24</td>\n",
       "      <td>Branco</td>\n",
       "      <td>Solteiro</td>\n",
       "      <td>São Pualo</td>\n",
       "    </tr>\n",
       "    <tr>\n",
       "      <th>1</th>\n",
       "      <td>Jonathan Igor</td>\n",
       "      <td>28</td>\n",
       "      <td>Negro</td>\n",
       "      <td>Casado</td>\n",
       "      <td>Fortaleza</td>\n",
       "    </tr>\n",
       "    <tr>\n",
       "      <th>2</th>\n",
       "      <td>Gomes Costa</td>\n",
       "      <td>32</td>\n",
       "      <td>Pardo</td>\n",
       "      <td>Viúvo</td>\n",
       "      <td>Rio de Janeiro</td>\n",
       "    </tr>\n",
       "    <tr>\n",
       "      <th>3</th>\n",
       "      <td>Manoel Maya</td>\n",
       "      <td>35</td>\n",
       "      <td>Branco</td>\n",
       "      <td>Solteiro</td>\n",
       "      <td>Belo Horizonte</td>\n",
       "    </tr>\n",
       "  </tbody>\n",
       "</table>\n",
       "</div>"
      ],
      "text/plain": [
       "Id           Nome  Idade     Cor Estado Civil          Cidade\n",
       "0   Pedro Roberto     24  Branco     Solteiro       São Pualo\n",
       "1   Jonathan Igor     28   Negro       Casado       Fortaleza\n",
       "2     Gomes Costa     32   Pardo        Viúvo  Rio de Janeiro\n",
       "3     Manoel Maya     35  Branco     Solteiro  Belo Horizonte"
      ]
     },
     "execution_count": 28,
     "metadata": {},
     "output_type": "execute_result"
    }
   ],
   "source": [
    "frame"
   ]
  },
  {
   "cell_type": "code",
   "execution_count": null,
   "metadata": {},
   "outputs": [],
   "source": []
  }
 ],
 "metadata": {
  "kernelspec": {
   "display_name": "Python 3",
   "language": "python",
   "name": "python3"
  },
  "language_info": {
   "codemirror_mode": {
    "name": "ipython",
    "version": 3
   },
   "file_extension": ".py",
   "mimetype": "text/x-python",
   "name": "python",
   "nbconvert_exporter": "python",
   "pygments_lexer": "ipython3",
   "version": "3.7.3"
  }
 },
 "nbformat": 4,
 "nbformat_minor": 2
}
